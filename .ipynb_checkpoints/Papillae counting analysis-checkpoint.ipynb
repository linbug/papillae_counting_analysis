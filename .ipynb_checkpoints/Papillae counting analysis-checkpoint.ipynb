{
 "metadata": {
  "name": "",
  "signature": "sha256:2fc9ad0d660639298c0ec00df754f81f0bc419ecff24ff93cb5fe5962bdc0f07"
 },
 "nbformat": 3,
 "nbformat_minor": 0,
 "worksheets": [
  {
   "cells": [
    {
     "cell_type": "code",
     "collapsed": false,
     "input": [
      "import pandas as pd\n",
      "import numpy as np\n",
      "import scipy as sp\n",
      "import matplotlib.pyplot as plt\n",
      "import seaborn as sns\n",
      "\n",
      "%matplotlib inline"
     ],
     "language": "python",
     "metadata": {},
     "outputs": [],
     "prompt_number": 1
    },
    {
     "cell_type": "code",
     "collapsed": false,
     "input": [
      "cd C:\\Users\\Admin\\Dropbox\\Postgrad\\Research\\Basal Land Plants\\Marchantia\\Transformation\\papillae_counting_analysis"
     ],
     "language": "python",
     "metadata": {},
     "outputs": [
      {
       "output_type": "stream",
       "stream": "stdout",
       "text": [
        "C:\\Users\\Admin\\Dropbox\\Postgrad\\Research\\Basal Land Plants\\Marchantia\\Transformation\\papillae_counting_analysis\n"
       ]
      }
     ],
     "prompt_number": 2
    },
    {
     "cell_type": "code",
     "collapsed": false,
     "input": [
      "papillae_data = pd.read_excel(\"papillae counting analysis.xlsx\")"
     ],
     "language": "python",
     "metadata": {},
     "outputs": [],
     "prompt_number": 3
    },
    {
     "cell_type": "code",
     "collapsed": false,
     "input": [
      "sns.boxplot(papillae_data[\"Papillae per 100uMsq\"], groupby = papillae_data[\"Line\"] )"
     ],
     "language": "python",
     "metadata": {},
     "outputs": [
      {
       "metadata": {},
       "output_type": "pyout",
       "prompt_number": 4,
       "text": [
        "<matplotlib.axes.AxesSubplot at 0xcac17b8>"
       ]
      },
      {
       "metadata": {},
       "output_type": "display_data",
       "png": "[encoded data removed]",
       "text": [
        "<matplotlib.figure.Figure at 0xcac1c50>"
       ]
      }
     ],
     "prompt_number": 4
    },
    {
     "cell_type": "code",
     "collapsed": false,
     "input": [
      "CaMV35_only= papillae_data[~papillae_data[\"Line\"].isin([\"EFOE B\",\"EFOE C\",\"EFOE D\"])]\n",
      "colors = [\"#4C72B0\", \"#4C72B0\", \"#4C72B0\", \"#4C72B0\",\"#C44E52\"]\n",
      "sns.boxplot(CaMV35_only[\"Papillae per 100uMsq\"], groupby = CaMV35_only[\"Line\"], color = colors )\n",
      "#plt.savefig(\"C:/Users/Admin/Dropbox/Postgrad/35SOEpapillae.png\",dpi=1200)"
     ],
     "language": "python",
     "metadata": {},
     "outputs": [
      {
       "metadata": {},
       "output_type": "display_data",
       "png": "[encoded data removed]",
       "text": [
        "<matplotlib.figure.Figure at 0xcedebe0>"
       ]
      }
     ],
     "prompt_number": 9
    },
    {
     "cell_type": "code",
     "collapsed": false,
     "input": [
      "CaMV35_only[\"Line\"].value_counts()"
     ],
     "language": "python",
     "metadata": {},
     "outputs": [
      {
       "metadata": {},
       "output_type": "pyout",
       "prompt_number": 6,
       "text": [
        "Wt         8\n",
        "35SOE B    5\n",
        "EFOE D     5\n",
        "35SOE G    4\n",
        "35SOE C    3\n",
        "35SOE A    3\n",
        "dtype: int64"
       ]
      }
     ],
     "prompt_number": 6
    },
    {
     "cell_type": "code",
     "collapsed": false,
     "input": [
      "EF_only= papillae_data[papillae_data[\"Line\"].isin([\"EFOE B\",\"EFOE C\",\"EFOE D\", \"Wt\"])]\n",
      "colors = [\"#55A868\",\"#55A868\",\"#55A868\",\"#C44E52\"]\n",
      "sns.boxplot(EF_only[\"Papillae per 100uMsq\"], groupby = EF_only[\"Line\"], color = colors)\n",
      "#plt.savefig(\"C:/Users/Admin/Dropbox/Postgrad/EFOEpapillae.png\",dpi=1200)"
     ],
     "language": "python",
     "metadata": {},
     "outputs": [
      {
       "metadata": {},
       "output_type": "display_data",
       "png": "[encoded data removed]",
       "text": [
        "<matplotlib.figure.Figure at 0xd240630>"
       ]
      }
     ],
     "prompt_number": 13
    },
    {
     "cell_type": "code",
     "collapsed": false,
     "input": [
      "EF_only[\"Line\"].value_counts()"
     ],
     "language": "python",
     "metadata": {},
     "outputs": [
      {
       "metadata": {},
       "output_type": "pyout",
       "prompt_number": 8,
       "text": [
        "Wt        8\n",
        "EFOE B    3\n",
        "EFOE C    2\n",
        "dtype: int64"
       ]
      }
     ],
     "prompt_number": 8
    }
   ],
   "metadata": {}
  }
 ]
}